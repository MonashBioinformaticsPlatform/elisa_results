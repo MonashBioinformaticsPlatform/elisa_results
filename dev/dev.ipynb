{
 "cells": [
  {
   "cell_type": "code",
   "execution_count": 1,
   "metadata": {
    "collapsed": true
   },
   "outputs": [],
   "source": [
    "#display_read_well_csv()\n",
    "\n",
    "# def get_well_info(filename='elisawells.csv',\n",
    "#                  rows=8):\n",
    "#     import csv, sys\n",
    "    \n",
    "#     rows = rows\n",
    "#     row_count = 0\n",
    "#     col_count = 0\n",
    "    \n",
    "#     # create list of lists\n",
    "#     col_list = list()\n",
    "    \n",
    "#     with open(filename, 'rb') as f:\n",
    "#         reader = csv.reader(f)\n",
    "#         try:\n",
    "#             col_count_list = list()\n",
    "            \n",
    "#             for row in reader:\n",
    "#                 row_value = int(row[0])\n",
    "                \n",
    "#                 if row_count >= rows:\n",
    "#                     row_count = 0\n",
    "#                     col_count = col_count + 1\n",
    "#                     #print col_count_list\n",
    "#                     col_list.append(col_count_list)\n",
    "#                     col_count_list = list()\n",
    "                \n",
    "#                 row_count = row_count + 1\n",
    "#                 col_count_list.append(row_value)\n",
    "                \n",
    "#                 #print '%i\\t%i\\t%i' % (row_count, col_count, row_value)\n",
    "            \n",
    "#             if col_count_list:\n",
    "#                 col_list.append(col_count_list)\n",
    "            \n",
    "#         except csv.Error as e:\n",
    "#             # TODO handle\n",
    "#             print 'file %s, line %d: %s' % (filename, reader.line_num, e)\n",
    "    \n",
    "#     col_resize = list()\n",
    "    \n",
    "#     for i in range(rows):\n",
    "#         tmp = list()\n",
    "        \n",
    "#         for j in range(len(col_list)):\n",
    "#             tmp.append(col_list[j][i])\n",
    "            \n",
    "#         col_resize.append(tmp)\n",
    "    \n",
    "#     return col_resize\n",
    "\n",
    "\n",
    "# get well xy pos for num\n",
    "# for i in range(len(well_map)):\n",
    "#     for j in well_map[i]:\n",
    "#         print j\n",
    "#         well_pos = j-1\n",
    "#         well_col = abs(well_pos/rows)+1\n",
    "#         well_row = abs(well_pos%rows)\n",
    "        \n",
    "#         print well_col\n",
    "#         print well_row"
   ]
  },
  {
   "cell_type": "code",
   "execution_count": 2,
   "metadata": {
    "collapsed": false
   },
   "outputs": [],
   "source": [
    "import csv, sys\n",
    "import numpy as np\n",
    "\n",
    "filename = 'plate_1_dummy.csv'\n",
    "prot_concentration_high = 2.0\n",
    "coating_ab = 4.0\n",
    "rows = 8\n",
    "cols = 12\n"
   ]
  },
  {
   "cell_type": "code",
   "execution_count": 3,
   "metadata": {
    "collapsed": false
   },
   "outputs": [],
   "source": [
    "# from csv to plate array\n",
    "def read_plate_csv(filename):\n",
    "    import csv, sys\n",
    "    \n",
    "    csv_list = list()\n",
    "    with open(filename, 'rb') as f:\n",
    "        reader = csv.reader(f)\n",
    "        try:\n",
    "            for row in reader:\n",
    "                csv_list.append(row)\n",
    "        except csv.Error as e:\n",
    "            # TODO handle\n",
    "            print 'file %s, line %d: %s' % (filename, reader.line_num, e)\n",
    "            \n",
    "    return csv_list\n",
    "            \n",
    "\n",
    "# from plate array to mapped plate array\n",
    "def get_mapped_plate(plate, filename='elisawells.csv',\n",
    "                 rows=8, cols=12):\n",
    "    import csv, sys\n",
    "    \n",
    "    row_count = 0\n",
    "    col_count = 0\n",
    "    \n",
    "    mapped_plate = list()\n",
    "       \n",
    "    with open(filename, 'rb') as f:\n",
    "        reader = csv.reader(f)\n",
    "        col_count_list = list()\n",
    "\n",
    "        for row in reader:\n",
    "            row_value = int(row[0])\n",
    "            ab2_value = float(row[1])\n",
    "    \n",
    "            well_pos = row_value\n",
    "            well_col = abs(well_pos/rows)\n",
    "            well_row = abs(well_pos%rows)-1\n",
    "            \n",
    "            mapped_plate.append((row_value, ab2_value, plate[well_row][well_col]))\n",
    "            \n",
    "    return mapped_plate\n"
   ]
  },
  {
   "cell_type": "code",
   "execution_count": 4,
   "metadata": {
    "collapsed": false
   },
   "outputs": [],
   "source": [
    "def get_prot_concentration_step(p_high):\n",
    "    p = p_high\n",
    "\n",
    "    return [0, p/8.0, p/4.0, p/2.0, p]\n",
    "\n",
    "def get_coating_ab_step(a_high):\n",
    "    p = a_high\n",
    "\n",
    "    return [p/8.0, p/4.0, p/2.0, p]\n",
    "\n",
    "def get_well_attrs(mapped_plate, prot_concentration_high, coating_ab, ab2_step=4):\n",
    "    prot_step = get_prot_concentration_step(prot_concentration_high)\n",
    "    coating_step = get_coating_ab_step(coating_ab)\n",
    "\n",
    "    count = 0\n",
    "    well_attr = list()\n",
    "    for i in prot_step:\n",
    "        for j in coating_step:\n",
    "            for k in range(ab2_step):\n",
    "                # join both tuples\n",
    "                tmp_tup = ((j,i)+(mapped_plate[count]))\n",
    "                well_attr.append({'coating_ab': tmp_tup[0],\n",
    "                                  'prot': tmp_tup[1],\n",
    "                                  'well': tmp_tup[2],\n",
    "                                  'ab2': tmp_tup[3],\n",
    "                                  'value': tmp_tup[4],\n",
    "                                 })\n",
    "                count = count + 1\n",
    "    return well_attr"
   ]
  },
  {
   "cell_type": "code",
   "execution_count": 5,
   "metadata": {
    "collapsed": false
   },
   "outputs": [],
   "source": [
    "plate = read_plate_csv('plate_1_dummy.csv')\n",
    "mapped_plate = get_mapped_plate(plate)\n",
    "well_attr = get_well_attrs(mapped_plate, prot_concentration_high,coating_ab)\n",
    "\n",
    "# for well in well_attr:\n",
    "#     print well['prot']"
   ]
  },
  {
   "cell_type": "code",
   "execution_count": 6,
   "metadata": {
    "collapsed": true
   },
   "outputs": [],
   "source": [
    "import pandas as pd"
   ]
  },
  {
   "cell_type": "code",
   "execution_count": 7,
   "metadata": {
    "collapsed": false
   },
   "outputs": [],
   "source": [
    "df = pd.DataFrame(well_attr)\n"
   ]
  },
  {
   "cell_type": "code",
   "execution_count": 8,
   "metadata": {
    "collapsed": false
   },
   "outputs": [
    {
     "data": {
      "text/html": [
       "<div style=\"max-height:1000px;max-width:1500px;overflow:auto;\">\n",
       "<table border=\"1\" class=\"dataframe\">\n",
       "  <thead>\n",
       "    <tr style=\"text-align: right;\">\n",
       "      <th></th>\n",
       "      <th>ab2</th>\n",
       "      <th>coating_ab</th>\n",
       "      <th>prot</th>\n",
       "      <th>value</th>\n",
       "      <th>well</th>\n",
       "    </tr>\n",
       "  </thead>\n",
       "  <tbody>\n",
       "    <tr>\n",
       "      <th>68</th>\n",
       "      <td> 0.50</td>\n",
       "      <td> 1</td>\n",
       "      <td> 2</td>\n",
       "      <td>  880</td>\n",
       "      <td>  8</td>\n",
       "    </tr>\n",
       "    <tr>\n",
       "      <th>69</th>\n",
       "      <td> 0.25</td>\n",
       "      <td> 1</td>\n",
       "      <td> 2</td>\n",
       "      <td>  900</td>\n",
       "      <td> 12</td>\n",
       "    </tr>\n",
       "    <tr>\n",
       "      <th>70</th>\n",
       "      <td> 1.00</td>\n",
       "      <td> 1</td>\n",
       "      <td> 2</td>\n",
       "      <td> 1290</td>\n",
       "      <td> 55</td>\n",
       "    </tr>\n",
       "    <tr>\n",
       "      <th>71</th>\n",
       "      <td> 2.00</td>\n",
       "      <td> 1</td>\n",
       "      <td> 2</td>\n",
       "      <td> 3250</td>\n",
       "      <td> 70</td>\n",
       "    </tr>\n",
       "  </tbody>\n",
       "</table>\n",
       "<p>4 rows × 5 columns</p>\n",
       "</div>"
      ],
      "text/plain": [
       "     ab2  coating_ab  prot value  well\n",
       "68  0.50           1     2   880     8\n",
       "69  0.25           1     2   900    12\n",
       "70  1.00           1     2  1290    55\n",
       "71  2.00           1     2  3250    70\n",
       "\n",
       "[4 rows x 5 columns]"
      ]
     },
     "execution_count": 8,
     "metadata": {},
     "output_type": "execute_result"
    }
   ],
   "source": [
    "# plot one series\n",
    "df[(df.prot == 2) & (df.coating_ab == 1)]"
   ]
  },
  {
   "cell_type": "code",
   "execution_count": null,
   "metadata": {
    "collapsed": true
   },
   "outputs": [],
   "source": []
  }
 ],
 "metadata": {
  "kernelspec": {
   "display_name": "Python 2",
   "language": "python",
   "name": "python2"
  },
  "language_info": {
   "codemirror_mode": {
    "name": "ipython",
    "version": 2
   },
   "file_extension": ".py",
   "mimetype": "text/x-python",
   "name": "python",
   "nbconvert_exporter": "python",
   "pygments_lexer": "ipython2",
   "version": "2.7.6"
  }
 },
 "nbformat": 4,
 "nbformat_minor": 0
}
