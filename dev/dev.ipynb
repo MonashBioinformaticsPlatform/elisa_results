{
 "cells": [
  {
   "cell_type": "code",
   "execution_count": 79,
   "metadata": {
    "collapsed": true
   },
   "outputs": [],
   "source": [
    "#display_read_well_csv()\n",
    "\n",
    "# def get_well_info(filename='elisawells.csv',\n",
    "#                  rows=8):\n",
    "#     import csv, sys\n",
    "    \n",
    "#     rows = rows\n",
    "#     row_count = 0\n",
    "#     col_count = 0\n",
    "    \n",
    "#     # create list of lists\n",
    "#     col_list = list()\n",
    "    \n",
    "#     with open(filename, 'rb') as f:\n",
    "#         reader = csv.reader(f)\n",
    "#         try:\n",
    "#             col_count_list = list()\n",
    "            \n",
    "#             for row in reader:\n",
    "#                 row_value = int(row[0])\n",
    "                \n",
    "#                 if row_count >= rows:\n",
    "#                     row_count = 0\n",
    "#                     col_count = col_count + 1\n",
    "#                     #print col_count_list\n",
    "#                     col_list.append(col_count_list)\n",
    "#                     col_count_list = list()\n",
    "                \n",
    "#                 row_count = row_count + 1\n",
    "#                 col_count_list.append(row_value)\n",
    "                \n",
    "#                 #print '%i\\t%i\\t%i' % (row_count, col_count, row_value)\n",
    "            \n",
    "#             if col_count_list:\n",
    "#                 col_list.append(col_count_list)\n",
    "            \n",
    "#         except csv.Error as e:\n",
    "#             # TODO handle\n",
    "#             print 'file %s, line %d: %s' % (filename, reader.line_num, e)\n",
    "    \n",
    "#     col_resize = list()\n",
    "    \n",
    "#     for i in range(rows):\n",
    "#         tmp = list()\n",
    "        \n",
    "#         for j in range(len(col_list)):\n",
    "#             tmp.append(col_list[j][i])\n",
    "            \n",
    "#         col_resize.append(tmp)\n",
    "    \n",
    "#     return col_resize\n",
    "\n",
    "\n",
    "# get well xy pos for num\n",
    "# for i in range(len(well_map)):\n",
    "#     for j in well_map[i]:\n",
    "#         print j\n",
    "#         well_pos = j-1\n",
    "#         well_col = abs(well_pos/rows)+1\n",
    "#         well_row = abs(well_pos%rows)\n",
    "        \n",
    "#         print well_col\n",
    "#         print well_row"
   ]
  },
  {
   "cell_type": "code",
   "execution_count": 104,
   "metadata": {
    "collapsed": false
   },
   "outputs": [],
   "source": [
    "import csv, sys\n",
    "import numpy as np\n",
    "import pandas as pd\n"
   ]
  },
  {
   "cell_type": "code",
   "execution_count": 90,
   "metadata": {
    "collapsed": false
   },
   "outputs": [],
   "source": [
    "def read_plate_file_to_csv(filename):\n",
    "    \n",
    "    csv_list = list()\n",
    "    \n",
    "    def get_csv_from_row(row):\n",
    "        return row.split('=')[1].split(' ')\n",
    "    \n",
    "    with open(filename) as f:\n",
    "        content = f.readlines()\n",
    "    \n",
    "    for line in content:\n",
    "        # -1 is not found\n",
    "        if line.find('Row') > 0:\n",
    "            csv_list.append(get_csv_from_row(line.strip()))\n",
    "            \n",
    "    return csv_list"
   ]
  },
  {
   "cell_type": "code",
   "execution_count": 166,
   "metadata": {
    "collapsed": false
   },
   "outputs": [],
   "source": [
    "# from csv to plate array\n",
    "# def read_plate_csv(filename):\n",
    "#     import csv, sys\n",
    "    \n",
    "#     csv_list = list()\n",
    "#     with open(filename, 'rb') as f:\n",
    "#         reader = csv.reader(f)\n",
    "#         try:\n",
    "#             for row in reader:\n",
    "#                 csv_list.append(row)\n",
    "#         except csv.Error as e:\n",
    "#             # TODO handle\n",
    "#             print 'file %s, line %d: %s' % (filename, reader.line_num, e)\n",
    "#     print 'oo'\n",
    "#     print csv_list\n",
    "#     return csv_list\n",
    "\n",
    "# from plate array to mapped plate array\n",
    "def get_mapped_plate(plate, filename='elisawells.csv',\n",
    "                 rows=8, cols=12):\n",
    "    import csv, sys\n",
    "    \n",
    "    row_count = 0\n",
    "    col_count = 0\n",
    "    \n",
    "    mapped_plate = list()\n",
    "       \n",
    "    with open(filename, 'rb') as f:\n",
    "        reader = csv.reader(f)\n",
    "        col_count_list = list()\n",
    "\n",
    "        for row in reader:\n",
    "            row_value = int(row[0])\n",
    "            ab2_value = float(row[1])\n",
    "    \n",
    "            well_pos = row_value\n",
    "            well_col = abs(well_pos/rows)\n",
    "            well_row = abs(well_pos%rows)-1\n",
    "            \n",
    "            mapped_plate.append((row_value, ab2_value, plate[well_row][well_col]))\n",
    "            \n",
    "    return mapped_plate\n"
   ]
  },
  {
   "cell_type": "code",
   "execution_count": 168,
   "metadata": {
    "collapsed": false
   },
   "outputs": [],
   "source": [
    "def get_prot_concentration_step(p_high):\n",
    "    p = p_high\n",
    "\n",
    "    return [0, p/8.0, p/4.0, p/2.0, p]\n",
    "\n",
    "def get_coating_ab_step(a_high):\n",
    "    p = a_high\n",
    "\n",
    "    return [p/8.0, p/4.0, p/2.0, p]\n",
    "\n",
    "def get_well_attrs(mapped_plate, prot_concentration_high, coating_ab, ab2_step):\n",
    "    prot_step = get_prot_concentration_step(prot_concentration_high)\n",
    "    coating_step = get_coating_ab_step(coating_ab)\n",
    "\n",
    "    count = 0\n",
    "    well_attr = list()\n",
    "    for i in prot_step:\n",
    "        for j in coating_step:\n",
    "            for k in range(ab2_step):\n",
    "                # join both tuples\n",
    "                tmp_tup = ((j,i)+(mapped_plate[count]))\n",
    "                well_attr.append({'coating_ab': tmp_tup[0],\n",
    "                                  'prot': tmp_tup[1],\n",
    "                                  'well': tmp_tup[2],\n",
    "                                  'ab2': tmp_tup[3],\n",
    "                                  'value': float(tmp_tup[4]),\n",
    "                                 })\n",
    "                count = count + 1\n",
    "    return well_attr"
   ]
  },
  {
   "cell_type": "code",
   "execution_count": 169,
   "metadata": {
    "collapsed": false
   },
   "outputs": [],
   "source": [
    "# plate = read_plate_csv('plate_1_dummy.csv') # old\n"
   ]
  },
  {
   "cell_type": "code",
   "execution_count": 170,
   "metadata": {
    "collapsed": false
   },
   "outputs": [],
   "source": [
    "prot_concentration_high = 2.0\n",
    "coating_ab = 4.0\n",
    "rows = 8\n",
    "cols = 12\n",
    "\n",
    "# ab2_step = 4\n",
    "# how many ab2 steps determines coating #\n",
    "\n",
    "# plate from file to pandas dataframe for bokeh app\n",
    "def read_plate_to_df(plate_file_csv,\n",
    "                    prot_concentration_high=prot_concentration_high,\n",
    "                    coating_ab=coating_ab,\n",
    "                    ab2_step=4):\n",
    "\n",
    "    plate = read_plate_file_to_csv(plate_file_csv)\n",
    "    mapped_plate = get_mapped_plate(plate)\n",
    "    well_attr = get_well_attrs(mapped_plate,\n",
    "                               prot_concentration_high,\n",
    "                               coating_ab,\n",
    "                               ab2_step)\n",
    "    df = pd.DataFrame(well_attr)\n",
    "    return df\n",
    "\n",
    "plate_file = '161102-001.CSV'\n",
    "df = read_plate_to_df(plate_file,\n",
    "                     prot_concentration_high,\n",
    "                     coating_ab)"
   ]
  },
  {
   "cell_type": "code",
   "execution_count": 171,
   "metadata": {
    "collapsed": false
   },
   "outputs": [],
   "source": [
    "# plot one series\n",
    "#df[(df.prot == 2) & (df.coating_ab == 1)]\n",
    "#df"
   ]
  },
  {
   "cell_type": "code",
   "execution_count": 172,
   "metadata": {
    "collapsed": false
   },
   "outputs": [
    {
     "name": "stdout",
     "output_type": "stream",
     "text": [
      "[ 0.    0.25  0.5   1.    2.  ]\n"
     ]
    },
    {
     "data": {
      "text/plain": [
       "ab2           float64\n",
       "coating_ab    float64\n",
       "prot          float64\n",
       "value         float64\n",
       "well            int64\n",
       "dtype: object"
      ]
     },
     "execution_count": 172,
     "metadata": {},
     "output_type": "execute_result"
    }
   ],
   "source": [
    "#prot_step = get_prot_concentration_step(prot_concentration_high)\n",
    "#    for p in prot_step:\n",
    "\n",
    "# get plot's worth of data points\n",
    "def get_df_by_prot_conc(df, prot_conc):\n",
    "    return df[(df.prot == prot_conc)]\n",
    "\n",
    "print df.prot.unique()\n",
    "\n",
    "prot_conc_05 = get_df_by_prot_conc(df, 0.5)\n",
    "prot_conc_05.ab2.unique()\n",
    "\n",
    "# get each point (coating) data \n",
    "#get_scatter_df_by_coating\n",
    "#df['value'] = df['value'].astype('float64') \n",
    "\n",
    "df.dtypes\n",
    "#df.value"
   ]
  },
  {
   "cell_type": "code",
   "execution_count": 184,
   "metadata": {
    "collapsed": false
   },
   "outputs": [],
   "source": [
    "ab2_steps = prot_conc_05.sort_values('ab2').ab2.unique().astype(str).tolist()"
   ]
  },
  {
   "cell_type": "code",
   "execution_count": 185,
   "metadata": {
    "collapsed": false
   },
   "outputs": [
    {
     "data": {
      "text/plain": [
       "['0.25', '0.5', '1.0', '2.0']"
      ]
     },
     "execution_count": 185,
     "metadata": {},
     "output_type": "execute_result"
    }
   ],
   "source": [
    "ab2_steps"
   ]
  },
  {
   "cell_type": "code",
   "execution_count": null,
   "metadata": {
    "collapsed": true
   },
   "outputs": [],
   "source": [
    "['0.25', '0.5', '1.0', '2.0']"
   ]
  }
 ],
 "metadata": {
  "kernelspec": {
   "display_name": "Python 2",
   "language": "python",
   "name": "python2"
  },
  "language_info": {
   "codemirror_mode": {
    "name": "ipython",
    "version": 2
   },
   "file_extension": ".py",
   "mimetype": "text/x-python",
   "name": "python",
   "nbconvert_exporter": "python",
   "pygments_lexer": "ipython2",
   "version": "2.7.6"
  }
 },
 "nbformat": 4,
 "nbformat_minor": 0
}
