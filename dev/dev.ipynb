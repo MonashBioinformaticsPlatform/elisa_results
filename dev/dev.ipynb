{
 "cells": [
  {
   "cell_type": "code",
   "execution_count": 2,
   "metadata": {
    "collapsed": false
   },
   "outputs": [
    {
     "name": "stdout",
     "output_type": "stream",
     "text": [
      "['2860', '990', '1100', '1130', '1660', '1340', '1690', '1850', '3460', '6700', '13490', '11270']\n",
      "['2320', '830', '2200', '1020', '980', '2530', '1090', '1200', '1090', '2070', '950', '1020']\n",
      "['980', '920', '6550', '980', '1130', '1200', '1280', '19130', '2640', '5640', '13260', '12190']\n",
      "['900', '900', '960', '1040', '1210', '1340', '2160', '2300', '3050', '5050', '13990', '15230']\n",
      "['900', '1860', '3140', '1220', '1350', '5320', '1540', '1840', '3220', '8620', '17060', '15270']\n",
      "['900', '1040', '2410', '1120', '1380', '1360', '1600', '1960', '3250', '6860', '16870', '10500']\n",
      "['990', '3590', '1030', '1330', '1050', '34590', '1290', '1700', '2900', '8720', '16150', '11000']\n",
      "['900', '880', '1080', '1040', '1610', '1560', '1320', '1660', '2920', '5850', '14270', '14430']\n"
     ]
    }
   ],
   "source": [
    "import csv, sys\n",
    "filename = 'plate_1_dummy.csv'\n",
    "with open(filename, 'rb') as f:\n",
    "    reader = csv.reader(f)\n",
    "    try:\n",
    "        for row in reader:\n",
    "            print row\n",
    "    except csv.Error as e:\n",
    "        sys.exit('file %s, line %d: %s' % (filename, reader.line_num, e))"
   ]
  },
  {
   "cell_type": "code",
   "execution_count": 175,
   "metadata": {
    "collapsed": false
   },
   "outputs": [
    {
     "data": {
      "text/plain": [
       "[(20, '960'),\n",
       " (27, '980'),\n",
       " (28, '1040'),\n",
       " (61, '1840'),\n",
       " (5, '900'),\n",
       " (26, '1020'),\n",
       " (29, '1220'),\n",
       " (75, '5640'),\n",
       " (38, '1380'),\n",
       " (67, '2640'),\n",
       " (71, '2900'),\n",
       " (76, '5050'),\n",
       " (6, '900'),\n",
       " (57, '1850'),\n",
       " (66, '1090'),\n",
       " (73, '6700'),\n",
       " (9, '990'),\n",
       " (11, '920'),\n",
       " (51, '1280'),\n",
       " (78, '6860'),\n",
       " (23, '1030'),\n",
       " (30, '1120'),\n",
       " (41, '1340'),\n",
       " (46, '1360'),\n",
       " (33, '1660'),\n",
       " (54, '1600'),\n",
       " (63, '1700'),\n",
       " (64, '2920'),\n",
       " (32, '1610'),\n",
       " (44, '1340'),\n",
       " (65, '3460'),\n",
       " (74, '2070'),\n",
       " (2, '2320'),\n",
       " (3, '980'),\n",
       " (25, '1130'),\n",
       " (39, '1050'),\n",
       " (13, '1860'),\n",
       " (37, '1350'),\n",
       " (50, '1090'),\n",
       " (80, '14270'),\n",
       " (1, '2860'),\n",
       " (56, '1660'),\n",
       " (68, '3050'),\n",
       " (79, '8720'),\n",
       " (22, '2410'),\n",
       " (36, '1210'),\n",
       " (60, '2300'),\n",
       " (72, '5850'),\n",
       " (35, '1130'),\n",
       " (43, '1200'),\n",
       " (53, '1540'),\n",
       " (58, '1200'),\n",
       " (10, '830'),\n",
       " (14, '1040'),\n",
       " (62, '1960'),\n",
       " (77, '8620'),\n",
       " (24, '1040'),\n",
       " (31, '1330'),\n",
       " (52, '2160'),\n",
       " (69, '3220'),\n",
       " (15, '3590'),\n",
       " (21, '3140'),\n",
       " (48, '1320'),\n",
       " (59, '19130'),\n",
       " (4, '900'),\n",
       " (16, '1080'),\n",
       " (17, '1100'),\n",
       " (34, '980'),\n",
       " (8, '880'),\n",
       " (12, '900'),\n",
       " (55, '1290'),\n",
       " (70, '3250'),\n",
       " (7, '990'),\n",
       " (18, '2200'),\n",
       " (45, '5320'),\n",
       " (49, '1690'),\n",
       " (19, '6550'),\n",
       " (40, '1560'),\n",
       " (42, '2530'),\n",
       " (47, '34590')]"
      ]
     },
     "execution_count": 175,
     "metadata": {},
     "output_type": "execute_result"
    }
   ],
   "source": [
    "rows = 8\n",
    "cols = 12\n",
    "\n",
    "def read_plate_csv(filename):\n",
    "    import csv, sys\n",
    "    \n",
    "    csv_list = list()\n",
    "    with open(filename, 'rb') as f:\n",
    "        reader = csv.reader(f)\n",
    "        try:\n",
    "            for row in reader:\n",
    "                csv_list.append(row)\n",
    "        except csv.Error as e:\n",
    "            # TODO handle\n",
    "            print 'file %s, line %d: %s' % (filename, reader.line_num, e)\n",
    "            \n",
    "    return csv_list\n",
    "\n",
    "def display_read_plate_csv():\n",
    "    dummy_well_1 = read_read_plate_csv('plate_1_dummy.csv')    \n",
    "    for row in dummy_well_1:\n",
    "        print '\\nROW:'\n",
    "        for well in row:\n",
    "            print '\\t' + well\n",
    "            \n",
    "#display_read_well_csv()\n",
    "\n",
    "def get_well_info(filename='elisawells.csv',\n",
    "                 rows=8):\n",
    "    import csv, sys\n",
    "    \n",
    "    rows = rows\n",
    "    row_count = 0\n",
    "    col_count = 0\n",
    "    \n",
    "    # create list of lists\n",
    "    col_list = list()\n",
    "    \n",
    "    with open(filename, 'rb') as f:\n",
    "        reader = csv.reader(f)\n",
    "        try:\n",
    "            col_count_list = list()\n",
    "            \n",
    "            for row in reader:\n",
    "                row_value = int(row[0])\n",
    "                \n",
    "                if row_count >= rows:\n",
    "                    row_count = 0\n",
    "                    col_count = col_count + 1\n",
    "                    #print col_count_list\n",
    "                    col_list.append(col_count_list)\n",
    "                    col_count_list = list()\n",
    "                \n",
    "                row_count = row_count + 1\n",
    "                col_count_list.append(row_value)\n",
    "                \n",
    "                #print '%i\\t%i\\t%i' % (row_count, col_count, row_value)\n",
    "            \n",
    "            if col_count_list:\n",
    "                col_list.append(col_count_list)\n",
    "            \n",
    "        except csv.Error as e:\n",
    "            # TODO handle\n",
    "            print 'file %s, line %d: %s' % (filename, reader.line_num, e)\n",
    "    \n",
    "    col_resize = list()\n",
    "    \n",
    "    for i in range(rows):\n",
    "        tmp = list()\n",
    "        \n",
    "        for j in range(len(col_list)):\n",
    "            tmp.append(col_list[j][i])\n",
    "            \n",
    "        col_resize.append(tmp)\n",
    "    \n",
    "    return col_resize\n",
    "\n",
    "well_map = get_well_info()\n",
    "plate = read_plate_csv('plate_1_dummy.csv')\n",
    "\n",
    "# get well xy pos for num\n",
    "# for i in range(len(well_map)):\n",
    "#     for j in well_map[i]:\n",
    "#         print j\n",
    "#         well_pos = j-1\n",
    "#         well_col = abs(well_pos/rows)+1\n",
    "#         well_row = abs(well_pos%rows)\n",
    "        \n",
    "#         print well_col\n",
    "#         print well_row\n",
    "\n",
    "def get_mapped_plate(filename='elisawells.csv',\n",
    "                 rows=8, cols=12, plate=plate):\n",
    "    import csv, sys\n",
    "    \n",
    "    row_count = 0\n",
    "    col_count = 0\n",
    "    \n",
    "    mapped_plate = list()\n",
    "       \n",
    "    with open(filename, 'rb') as f:\n",
    "        reader = csv.reader(f)\n",
    "        col_count_list = list()\n",
    "\n",
    "        for row in reader:\n",
    "            row_value = int(row[0])\n",
    "    \n",
    "            well_pos = row_value\n",
    "            well_col = abs(well_pos/rows)\n",
    "            well_row = abs(well_pos%rows)-1\n",
    "            \n",
    "            mapped_plate.append((row_value, well[well_row][well_col]))\n",
    "            \n",
    "    return mapped_plate\n",
    "            \n",
    "get_mapped_plate()"
   ]
  },
  {
   "cell_type": "code",
   "execution_count": 134,
   "metadata": {
    "collapsed": false
   },
   "outputs": [
    {
     "data": {
      "text/plain": [
       "2"
      ]
     },
     "execution_count": 134,
     "metadata": {},
     "output_type": "execute_result"
    }
   ],
   "source": [
    "abs(19 / 8)"
   ]
  },
  {
   "cell_type": "code",
   "execution_count": 135,
   "metadata": {
    "collapsed": false
   },
   "outputs": [
    {
     "data": {
      "text/plain": [
       "3"
      ]
     },
     "execution_count": 135,
     "metadata": {},
     "output_type": "execute_result"
    }
   ],
   "source": [
    "19%8"
   ]
  },
  {
   "cell_type": "code",
   "execution_count": null,
   "metadata": {
    "collapsed": true
   },
   "outputs": [],
   "source": []
  }
 ],
 "metadata": {
  "kernelspec": {
   "display_name": "Python 2",
   "language": "python",
   "name": "python2"
  },
  "language_info": {
   "codemirror_mode": {
    "name": "ipython",
    "version": 2
   },
   "file_extension": ".py",
   "mimetype": "text/x-python",
   "name": "python",
   "nbconvert_exporter": "python",
   "pygments_lexer": "ipython2",
   "version": "2.7.6"
  }
 },
 "nbformat": 4,
 "nbformat_minor": 0
}
